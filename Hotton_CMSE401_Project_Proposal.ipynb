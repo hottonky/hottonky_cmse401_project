{
 "cells": [
  {
   "cell_type": "markdown",
   "metadata": {},
   "source": [
    "# Traveling Thrill Seeker\n",
    "\n",
    "By Kyla Hotton"
   ]
  },
  {
   "cell_type": "markdown",
   "metadata": {},
   "source": [
    "&#9989; Replace the following with a picture that \"defines\" your project.  This could be software logo, an expected outcome of your project, or a graphical representation of the research area. \n",
    "\n",
    "<img alt=\"Simple Icon of a camera. This is just a place holder for your image\" src=\"https://mickeyblog.com/wp-content/uploads/2021/02/Tower-of-Terror-1-716x340.png\" width=\"80%\">\n",
    "\n",
    "Image from: https://mickeyblog.com/2021/08/11/disney-cancels-rumored-tower-of-terror-movie/"
   ]
  },
  {
   "cell_type": "markdown",
   "metadata": {},
   "source": [
    "---\n",
    "### Abstract\n",
    "\n",
    "The goal of this project is to find the best possible schedule to follow when visiting Disney's Hollywood Studios. It is vaguely inspired by the traveling salesman problem. The main difference is that on top of the distance between attractions the expected wait time for attractions will be accounted for. I chose this project because I am the type of person who wants to see every attraction a theme park has to offer in a single day. I chose Hollywood studios specifically because disney is known for having large amounts of park data and it is my favorite of the disney parks. I will use the HPCC and my computer to explore OpenMP to search through the possible schedules in parallel. As long as it runs and returns an adequate schedule before my computer gives up on it I will be happy. If I can get it to run in under 10 minutes I would like to then add other features such as food breaks and probability of ride delays.\n"
   ]
  },
  {
   "cell_type": "markdown",
   "metadata": {},
   "source": [
    "----\n",
    "### Schedule\n",
    "\n",
    "\n",
    "* Sunday February 5 - Project Proposal Milestone Due\n",
    "* Week of February 2/6-2/12 - Find Data\n",
    "* Week of February 2/13-2/19 - Get Data into usable formate\n",
    "* Week of February 2/20-2/26 - Make a schedule based on wait times only\n",
    "* Sunday February 26 - Project Part 1 Due\n",
    "* Week of March 2/27-3/5 - Add walk timem between attractions\n",
    "* Week of March 3/6-3/12 - Spring Break!\n",
    "* Week of March 3/13-3/19 - Fix/add another component\n",
    "* Week of March 3/20-3/26 - Clean it up\n",
    "* Week of April 3/27-4/2 - Fix/add another component\n",
    "* Week of April 4/3-4/9 - Finalize\n",
    "* April 15 - Final Project due"
   ]
  },
  {
   "cell_type": "markdown",
   "metadata": {},
   "source": [
    "---\n",
    "### Software Exploration\n",
    "\n",
    "The only software I am planning on using right now is OpenMP. Parallel computing is a very new concept for me that is challenging for me to conceptually understand. My plan is to continue to go to class everyday and watch youtube videos on parallel computing to improve my understanding. I will be using this youtube channel (https://www.youtube.com/@OpenMPARB) that we were introduced to in class. I may also try to understand MPI and determine if that can help me with this project. I will do this with youtube videos like this one (https://www.youtube.com/watch?v=c0C9mQaxsD4)."
   ]
  },
  {
   "cell_type": "markdown",
   "metadata": {},
   "source": [
    "---\n",
    "### Benchmark and Optimization\n",
    "\n",
    "I am going to be writing my own code. I know it can run in parallel because it is looking through multiple scenarios for the best option. This can be divided into multiple nodes. It is also very similar to the traveling salesman problem which other people have implemented in parallel before. One example of this is this paper (https://arxiv.org/pdf/2205.14352.pdf). I will test my code by using a different number of nodes multiple times to see how the timing results vary based on the number of nodes being used. I am hoping that on average, using more nodes will result in a faster runtime. Another document I found that may be helpful is this document (https://uu.diva-portal.org/smash/get/diva2:1044922/FULLTEXT01.pdf) that contains many similar problems."
   ]
  }
 ],
 "metadata": {
  "anaconda-cloud": {},
  "kernelspec": {
   "display_name": "Python 3 (ipykernel)",
   "language": "python",
   "name": "python3"
  },
  "language_info": {
   "codemirror_mode": {
    "name": "ipython",
    "version": 3
   },
   "file_extension": ".py",
   "mimetype": "text/x-python",
   "name": "python",
   "nbconvert_exporter": "python",
   "pygments_lexer": "ipython3",
   "version": "3.9.12"
  }
 },
 "nbformat": 4,
 "nbformat_minor": 1
}
